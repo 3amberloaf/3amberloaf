{
 "cells": [
  {
   "cell_type": "markdown",
   "id": "4b6cf54c",
   "metadata": {
    "papermill": {
     "duration": 0.005688,
     "end_time": "2024-11-12T19:15:30.738814",
     "exception": false,
     "start_time": "2024-11-12T19:15:30.733126",
     "status": "completed"
    },
    "tags": []
   },
   "source": [
    "# Phishing Email Detection using NLP and Machine Learning\n",
    "\n",
    "This project is designed to detect phishing emails by analyzing the text content using Natural Language Processing (NLP) and Machine Learning (ML). This project will help me understand how to preprocess email text, extract meaningful features, and build a simple classifier to differentiate phishing emails from legitimate ones."
   ]
  },
  {
   "cell_type": "markdown",
   "id": "4c60b3bc",
   "metadata": {
    "papermill": {
     "duration": 0.005015,
     "end_time": "2024-11-12T19:15:30.749935",
     "exception": false,
     "start_time": "2024-11-12T19:15:30.744920",
     "status": "completed"
    },
    "tags": []
   },
   "source": [
    "## Challenges\n",
    "\n",
    "Coming into this project, I faced a few challenges that I needed to address. First, I had limited experience with NLP and text preprocessing, so understanding how to clean and prepare raw email data was new to me. I also needed to familiarize myself with evaluation metrics like precision, recall, and F1-score. Lastly, understanding how to use TF-IDF for feature extraction was a new concept that took some time to research and grasp."
   ]
  },
  {
   "cell_type": "markdown",
   "id": "28a0117b",
   "metadata": {
    "papermill": {
     "duration": 0.007494,
     "end_time": "2024-11-12T19:15:30.763125",
     "exception": false,
     "start_time": "2024-11-12T19:15:30.755631",
     "status": "completed"
    },
    "tags": []
   },
   "source": [
    "## Project Structure\n",
    "\n",
    "1. **Set Up the Environment**: Install Python and essential libraries.\n",
    "2. **Gather the Dataset**: Use a dataset containing phishing and non-phishing emails (in this case the Spam vs Ham dataset).\n",
    "3. **Data Preprocessing**: Clean and preprocess the email text data.\n",
    "4. **Feature Engineering**: Transform text data into numerical features that the model can process.\n",
    "5. **Model Training**: Train a machine learning model to classify emails.\n",
    "6. **Evaluation**: Evaluate model performance using accuracy, precision, recall, and F1-score.\n",
    "7. **Testing and Improvement**: Test the model on new samples and improve if necessary (\n",
    "\n",
    "## Detailed Steps\n",
    "\n",
    "### 1. Set Up the Environment\n",
    "\n",
    "To set up the environment, ensure you have Python installed. Then, install the required libraries by running the following commands:\n",
    "\n",
    "```python\n",
    "pip install pandas numpy scikit-learn nltk kagglehub\n",
    "\n",
    "```\n",
    "\n",
    "**Libraries Used**\n",
    "1. Pandas: For data manipulation and analysis.\n",
    "2. NumPy: For handling numerical operations.\n",
    "3. Scikit-learn: For machine learning algorithms, data splitting, and model evaluation.\n",
    "4. NLTK (Natural Language Toolkit): For text processing, tokenization, and removing stopwords.\n",
    "    - Stopwords: common words that typically do not carry significant meaning (i.e. 'the', 'in' 'is')\n",
    "    - punkt: downloads the tokenizer models which helps split text into words or sentences based on standard english\n",
    "4. KaggleHub: For downloading datasets from Kaggle directly into the project.\n",
    "\n",
    "### 2. Downloading and Accessing the Dataset\n",
    "The dataset is downloaded using the kagglehub library. We specify the spam vs ham dataset and print out the path to where the dataset is saved on the system.\n",
    "\n",
    "```python\n",
    "import kagglehub\n",
    "path = kagglehub.dataset_download(\"shantanudhakadd/email-spam-detection-dataset-classification\")\n",
    "print(\"Path to dataset files:\", path)\n",
    "```\n",
    "\n",
    "Next, the dataset is loaded into a pandas DataFrame for easier manipulation and analysis. We inspect the first few rows to understand its structure.\n",
    "\n",
    "```python\n",
    "data = pd.read_csv(f\"{path}/emails.csv\") \n",
    "print(data.head())\n",
    "```\n",
    "### 5. Data Preprocessing\n",
    "We preprocess the email text data to prepare it for model training focsuing on:\n",
    "    - Convert text to lowercase.\n",
    "    - Remove special characters and numbers.\n",
    "    - Tokenize the text and remove stopwords using NLTK.\n",
    "    - Store the cleaned text in a new column, processed_text.\n",
    "\n",
    "``` python\n",
    "import nltk\n",
    "nltk.download('stopwords')\n",
    "nltk.download('punkt')\n",
    "\n",
    "stop_words = set(nltk.corpus.stopwords.words('english'))\n",
    "\n",
    "def preprocess_text(text):\n",
    "    text = text.lower()\n",
    "    text = re.sub(r'\\W', ' ', text)\n",
    "    text = re.sub(r'\\d', ' ', text)\n",
    "    tokens = nltk.word_tokenize(text)\n",
    "    tokens = [word for word in tokens if word not in stop_words]\n",
    "    return ' '.join(tokens)\n",
    "\n",
    "data['processed_text'] = data['message'].apply(preprocess_text)\n",
    "```\n",
    "\n",
    "### 6. Feature Engineering\n",
    "We convert the processed text data into numerical features using TF-IDF (Term Frequency-Inverse Document Frequency), limiting it to the top 3000 features for simplicity. This transforms the text into a format that the model can work with. TF_IFG converts text into numerical values representing the importance of words in the text. The labels (y) are also transformed into binary values for classification.\n",
    "\n",
    "```\n",
    "python\n",
    "from sklearn.feature_extraction.text import TfidfVectorizer\n",
    "\n",
    "tfidf_vectorizer = TfidfVectorizer(max_features=3000)\n",
    "X = tfidf_vectorizer.fit_transform(data['processed_text']).toarray()\n",
    "y = data['label'].apply(lambda x: 1 if x == 'phishing' else 0)  # Convert labels to binary\n",
    "```\n",
    "\n",
    "The lambda functions operates as follows:\n",
    "1. For each label x in the label column:\n",
    "2. If x is equal to 'phishing', it returns 1.\n",
    "    - Otherwise (if x is not 'phishing', like 'not phishing'), it returns 0.\n",
    "This effectively converts any 'phishing' label to 1 and any other label to 0.\n",
    "Y is now a binary representation of the label column where 1 represents phishing emails and 0 non-phishing emails. This binary classification prepares y to be used as a target variable in a ML model.\n",
    "\n",
    "### 7. Splitting the Dataset\n",
    "We split the dataset into training and testing sets, with 80% for training and 20% for testing. This helps evaluate the model's performance on unseen data.\n",
    "\n",
    "```\n",
    "python\n",
    "from sklearn.model_selection import train_test_split\n",
    "\n",
    "X_train, X_test, y_train, y_test = train_test_split(X, y, test_size=0.2, random_state=42)\n",
    "```\n",
    "\n",
    "### 8. Model Training\n",
    "We use a Naive Bayes classifier, which is effective for text classification tasks and perfect for identifying phishing emails. The model is trained on the training data.\n",
    "\n",
    "```\n",
    "python\n",
    "from sklearn.naive_bayes import MultinomialNB\n",
    "\n",
    "model = MultinomialNB()\n",
    "model.fit(X_train, y_train)\n",
    "```\n",
    "\n",
    "### 9. Making Predictions and Evaluation\n",
    "After training the model, we use it to make predictions on the test set. We then calculate evaluation metrics, such as accuracy, precision, recall, and F1-score, to assess model performance.\n",
    "\n",
    "```\n",
    "python\n",
    "from sklearn.metrics import accuracy_score, precision_score, recall_score, f1_score\n",
    "\n",
    "y_pred = model.predict(X_test)\n",
    "\n",
    "accuracy = accuracy_score(y_test, y_pred)\n",
    "precision = precision_score(y_test, y_pred)\n",
    "recall = recall_score(y_test, y_pred)\n",
    "f1 = f1_score(y_test, y_pred)\n",
    "\n",
    "print(\"Model Evaluation Metrics:\")\n",
    "print(f\"Accuracy: {accuracy:.2f}\")\n",
    "print(f\"Precision: {precision:.2f}\")\n",
    "print(f\"Recall: {recall:.2f}\")\n",
    "print(f\"F1 Score: {f1:.2f}\")\n",
    "```\n",
    "\n",
    "\n",
    "## What I Learned\n",
    "Through this project, I learned how to preprocess text data for NLP tasks, including steps like tokenization, stopword removal, and lowercasing, which are crucial for cleaning raw text data. Working with TF-IDF taught me how to transform text into numerical features that machine learning models can understand, which was eye-opening. I also gained a deeper understanding of model evaluation metrics beyond accuracy, such as precision, recall, and F1-score, and how each metric is valuable in understanding the performance of a classification model. Finally, I learned how to use libraries like NLTK and scikit-learn together to build an end-to-end machine learning pipeline for text classification, which has given me more confidence in my ability to work on similar NLP projects in the future.\n",
    "\n",
    "1. Python re.sub(): search, replace, and manipulate strings based on specific patterns\n",
    "    - re.sub(pattern, replacement, string)\n",
    "    - i.e. `text = re.sub(r'\\W', ' ', text)\n",
    "        - \\W matche any non-word character \n",
    "        - removes any symbols or special characters \n",
    "    - the r before a string makes it a raw string, telling python to treat \\ as literal characters"
   ]
  },
  {
   "cell_type": "markdown",
   "id": "c055ac56",
   "metadata": {
    "papermill": {
     "duration": 0.006198,
     "end_time": "2024-11-12T19:15:30.775343",
     "exception": false,
     "start_time": "2024-11-12T19:15:30.769145",
     "status": "completed"
    },
    "tags": []
   },
   "source": [
    "# Code"
   ]
  },
  {
   "cell_type": "code",
   "execution_count": 1,
   "id": "4593f854",
   "metadata": {
    "execution": {
     "iopub.execute_input": "2024-11-12T19:15:30.791942Z",
     "iopub.status.busy": "2024-11-12T19:15:30.790306Z",
     "iopub.status.idle": "2024-11-12T19:15:37.826035Z",
     "shell.execute_reply": "2024-11-12T19:15:37.823973Z"
    },
    "papermill": {
     "duration": 7.049698,
     "end_time": "2024-11-12T19:15:37.830897",
     "exception": false,
     "start_time": "2024-11-12T19:15:30.781199",
     "status": "completed"
    },
    "tags": []
   },
   "outputs": [
    {
     "name": "stdout",
     "output_type": "stream",
     "text": [
      "Path to dataset files: /kaggle/input/email-spam-detection-dataset-classification\n",
      "     v1                                                 v2 Unnamed: 2  \\\n",
      "0   ham  Go until jurong point, crazy.. Available only ...        NaN   \n",
      "1   ham                      Ok lar... Joking wif u oni...        NaN   \n",
      "2  spam  Free entry in 2 a wkly comp to win FA Cup fina...        NaN   \n",
      "3   ham  U dun say so early hor... U c already then say...        NaN   \n",
      "4   ham  Nah I don't think he goes to usf, he lives aro...        NaN   \n",
      "\n",
      "  Unnamed: 3 Unnamed: 4  \n",
      "0        NaN        NaN  \n",
      "1        NaN        NaN  \n",
      "2        NaN        NaN  \n",
      "3        NaN        NaN  \n",
      "4        NaN        NaN  \n",
      "Training Model Evaluation Metrics:\n",
      "Accuracy: 0.98\n",
      "Precision: 0.99\n",
      "Recall: 0.85\n",
      "F1 Score: 0.92\n"
     ]
    }
   ],
   "source": [
    "# Import necessary libraries\n",
    "import kagglehub\n",
    "import pandas as pd\n",
    "import numpy as np\n",
    "from sklearn.model_selection import train_test_split\n",
    "from sklearn.feature_extraction.text import TfidfVectorizer\n",
    "from sklearn.naive_bayes import MultinomialNB\n",
    "from sklearn.metrics import accuracy_score, precision_score, recall_score, f1_score\n",
    "from nltk.corpus import stopwords\n",
    "from nltk.tokenize import word_tokenize\n",
    "import re\n",
    "import nltk\n",
    "\n",
    "# Download and access dataset from online kaggle api\n",
    "import kagglehub\n",
    "\n",
    "path = kagglehub.dataset_download(\"shantanudhakadd/email-spam-detection-dataset-classification\")\n",
    "print(\"Path to dataset files:\", path)\n",
    "\n",
    "# Set up dataset path\n",
    "dataset_path = f\"{path}/spam.csv\" \n",
    "\n",
    "# Load dataset\n",
    "data = pd.read_csv(dataset_path, encoding='ISO-8859-1')\n",
    "\n",
    "\n",
    "# Inspect dataset\n",
    "print(data.head())\n",
    "\n",
    "\n",
    "# Assigns all stop words to a set for easy lookup\n",
    "stop_words = set(stopwords.words('english'))\n",
    "\n",
    "def preprocess_text(text):\n",
    "    # Lowercase text\n",
    "    text = text.lower()\n",
    "    # Remove special characters and numbers\n",
    "    text = re.sub(r'\\W', ' ', text)\n",
    "    text = re.sub(r'\\d', ' ', text)\n",
    "    # Tokenize text\n",
    "    tokens = word_tokenize(text)\n",
    "    # Remove stopwords\n",
    "    tokens = [word for word in tokens if word not in stop_words]\n",
    "    return ' '.join(tokens)\n",
    "\n",
    "# Apply preprocessing to email body column to create new column 'processed_text'\n",
    "data['processed_text'] = data['v2'].apply(preprocess_text)  \n",
    "\n",
    "# Feature Engineering with TF-IDF\n",
    "tfidf_vectorizer = TfidfVectorizer(max_features=3000)\n",
    "X = tfidf_vectorizer.fit_transform(data['processed_text']).toarray()\n",
    "y = data['v1'].apply(lambda x: 1 if x == 'spam' else 0)  # Convert 'spam' to 1 and 'ham' to 0\n",
    "\n",
    "# Split dataset into training and testing sets\n",
    "X_train, X_test, y_train, y_test = train_test_split(X, y, test_size=0.2, random_state=42)\n",
    "\n",
    "# Model Training with multinomial naive bayes model\n",
    "model = MultinomialNB()\n",
    "model.fit(X_train, y_train)\n",
    "\n",
    "# Predictions\n",
    "y_pred = model.predict(X_test)\n",
    "\n",
    "# Evaluation Metrics\n",
    "accuracy = accuracy_score(y_test, y_pred)\n",
    "precision = precision_score(y_test, y_pred)\n",
    "recall = recall_score(y_test, y_pred)\n",
    "f1 = f1_score(y_test, y_pred)\n",
    "\n",
    "# Display results\n",
    "print(\"Training Model Evaluation Metrics:\")\n",
    "print(f\"Accuracy: {accuracy:.2f}\")\n",
    "print(f\"Precision: {precision:.2f}\")\n",
    "print(f\"Recall: {recall:.2f}\")\n",
    "print(f\"F1 Score: {f1:.2f}\")"
   ]
  },
  {
   "cell_type": "markdown",
   "id": "21197721",
   "metadata": {
    "papermill": {
     "duration": 0.010158,
     "end_time": "2024-11-12T19:15:37.852095",
     "exception": false,
     "start_time": "2024-11-12T19:15:37.841937",
     "status": "completed"
    },
    "tags": []
   },
   "source": [
    "# Results\n",
    "\n",
    "## Confusion Matrix Summary\n",
    "The confusion matrix shows the breakdown of the model's predictions compared to the actual labels. It highlights that the model correctly identified most of the \"ham\" (non-spam) emails with only 1 false positive (classifying ham as spam). However, it missed 22 actual spam emails, misclassifying them as ham. Overall, the model performs well, with strong accuracy in identifying non-spam emails and reasonably good performance in detecting spam, though a few spam emails were incorrectly classified.\n",
    "\n",
    "## Model Evaluation Metrics Summary\n",
    "The bar chart provides an overview of key evaluation metrics for the model:\n",
    "\n",
    "Accuracy is close to 1.0, indicating that the model classifies most emails correctly.\n",
    "Precision is also high, meaning that the majority of emails labeled as spam are indeed spam.\n",
    "Recall is slightly lower, reflecting that some spam emails were missed by the model.\n",
    "F1 Score balances precision and recall, showing the model’s overall effectiveness in spam detection.\n",
    "This chart reinforces that the model is highly accurate and precise but could be slightly improved in recall to catch more spam emails."
   ]
  },
  {
   "cell_type": "code",
   "execution_count": 2,
   "id": "0a44ffc7",
   "metadata": {
    "execution": {
     "iopub.execute_input": "2024-11-12T19:15:37.877838Z",
     "iopub.status.busy": "2024-11-12T19:15:37.877054Z",
     "iopub.status.idle": "2024-11-12T19:15:38.207093Z",
     "shell.execute_reply": "2024-11-12T19:15:38.205630Z"
    },
    "papermill": {
     "duration": 0.347177,
     "end_time": "2024-11-12T19:15:38.210054",
     "exception": false,
     "start_time": "2024-11-12T19:15:37.862877",
     "status": "completed"
    },
    "tags": []
   },
   "outputs": [
    {
     "data": {
      "image/png": "[encoded data removed]",
      "text/plain": [
       "<Figure size 640x480 with 2 Axes>"
      ]
     },
     "metadata": {},
     "output_type": "display_data"
    }
   ],
   "source": [
    "from sklearn.metrics import confusion_matrix, ConfusionMatrixDisplay\n",
    "import matplotlib.pyplot as plt\n",
    "\n",
    "# Generate confusion matrix\n",
    "cm = confusion_matrix(y_test, y_pred)\n",
    "\n",
    "# Plot confusion matrix\n",
    "disp = ConfusionMatrixDisplay(confusion_matrix=cm, display_labels=['Ham', 'Spam'])\n",
    "disp.plot(cmap=plt.cm.Blues)\n",
    "plt.title(f\"Training Evaluation Confusion Matrix\\nAccuracy: {accuracy:.2f}\")\n",
    "plt.show()\n"
   ]
  },
  {
   "cell_type": "code",
   "execution_count": 3,
   "id": "7ec9d0f8",
   "metadata": {
    "execution": {
     "iopub.execute_input": "2024-11-12T19:15:38.224358Z",
     "iopub.status.busy": "2024-11-12T19:15:38.223914Z",
     "iopub.status.idle": "2024-11-12T19:15:38.565177Z",
     "shell.execute_reply": "2024-11-12T19:15:38.563012Z"
    },
    "papermill": {
     "duration": 0.353452,
     "end_time": "2024-11-12T19:15:38.569526",
     "exception": false,
     "start_time": "2024-11-12T19:15:38.216074",
     "status": "completed"
    },
    "tags": []
   },
   "outputs": [
    {
     "data": {
      "image/png": "[encoded data removed]",
      "text/plain": [
       "<Figure size 800x600 with 1 Axes>"
      ]
     },
     "metadata": {},
     "output_type": "display_data"
    }
   ],
   "source": [
    "import matplotlib.pyplot as plt\n",
    "\n",
    "# Model evaluation metrics\n",
    "metrics = {'Accuracy': accuracy, 'Precision': precision, 'Recall': recall, 'F1 Score': f1}\n",
    "names = list(metrics.keys())\n",
    "values = list(metrics.values())\n",
    "\n",
    "# Plot bar chart\n",
    "plt.figure(figsize=(8, 6))\n",
    "plt.bar(names, values, color=['blue', 'orange', 'green', 'red'])\n",
    "plt.ylim(0, 1)\n",
    "plt.xlabel('Metrics')\n",
    "plt.ylabel('Score')\n",
    "plt.title('Training Evaluation Metrics')\n",
    "plt.show()\n"
   ]
  },
  {
   "cell_type": "code",
   "execution_count": 4,
   "id": "cf978480",
   "metadata": {
    "execution": {
     "iopub.execute_input": "2024-11-12T19:15:38.585409Z",
     "iopub.status.busy": "2024-11-12T19:15:38.584649Z",
     "iopub.status.idle": "2024-11-12T19:15:38.879408Z",
     "shell.execute_reply": "2024-11-12T19:15:38.877759Z"
    },
    "papermill": {
     "duration": 0.308352,
     "end_time": "2024-11-12T19:15:38.884484",
     "exception": false,
     "start_time": "2024-11-12T19:15:38.576132",
     "status": "completed"
    },
    "tags": []
   },
   "outputs": [
    {
     "name": "stdout",
     "output_type": "stream",
     "text": [
      "                                                  v2  v1  predicted_label  \\\n",
      "0  Your tax refund is ready for processing. Pleas...   1              NaN   \n",
      "1  Hereâs the agenda for the upcoming team meet...   0              NaN   \n",
      "2  Can you send over the documents we discussed i...   0              NaN   \n",
      "3  Welcome to our newsletter! We hope you enjoy o...   0              NaN   \n",
      "4  Dear user, your subscription is about to expir...   1              NaN   \n",
      "\n",
      "   is_correct  \n",
      "0         NaN  \n",
      "1         NaN  \n",
      "2         NaN  \n",
      "3         NaN  \n",
      "4         NaN  \n",
      "Testing Evaluation Metrics:\n",
      "Accuracy: 0.91\n",
      "Precision: 0.90\n",
      "Recall: 0.91\n",
      "F1 Score: 0.91\n"
     ]
    }
   ],
   "source": [
    "import os\n",
    "from sklearn.metrics import accuracy_score, precision_score, recall_score, f1_score\n",
    "\n",
    "# Load and preprocess the new dataset\n",
    "path = kagglehub.dataset_download(\"amberrosemiso/email-phishing-dataseat\")\n",
    "\n",
    "new_data_path = os.path.join(path, 'test_email_dataset.csv')\n",
    "\n",
    "# Load the dataset\n",
    "new_data = pd.read_csv(new_data_path, encoding='ISO-8859-1')\n",
    "\n",
    "# Display the first few rows to see column names and data\n",
    "print(new_data.head())\n",
    "\n",
    "# Apply preprocessing to the email body column to create 'processed_text'\n",
    "new_data['processed_text'] = new_data['v2'].apply(preprocess_text)\n",
    "\n",
    "# Transform the new dataset using the existing TF-IDF vectorizer\n",
    "X_new = tfidf_vectorizer.transform(new_data['processed_text']).toarray()\n",
    "\n",
    "# Make predictions on the new dataset\n",
    "new_data['predicted_label'] = model.predict(X_new)\n",
    "\n",
    "# Compare predictions with actual labels\n",
    "new_data['is_correct'] = new_data['predicted_label'] == new_data['v1']\n",
    "\n",
    "# Calculate evaluation metrics based on the new columns\n",
    "new_accuracy = accuracy_score(new_data['v1'], new_data['predicted_label'])\n",
    "new_precision = precision_score(new_data['v1'], new_data['predicted_label'])\n",
    "new_recall = recall_score(new_data['v1'], new_data['predicted_label'])\n",
    "new_f1 = f1_score(new_data['v1'], new_data['predicted_label'])\n",
    "\n",
    "# Display results\n",
    "print(\"Testing Evaluation Metrics:\")\n",
    "print(f\"Accuracy: {new_accuracy:.2f}\")\n",
    "print(f\"Precision: {new_precision:.2f}\")\n",
    "print(f\"Recall: {new_recall:.2f}\")\n",
    "print(f\"F1 Score: {new_f1:.2f}\")\n",
    "\n"
   ]
  },
  {
   "cell_type": "markdown",
   "id": "1c321d7a",
   "metadata": {
    "papermill": {
     "duration": 0.013364,
     "end_time": "2024-11-12T19:15:38.912087",
     "exception": false,
     "start_time": "2024-11-12T19:15:38.898723",
     "status": "completed"
    },
    "tags": []
   },
   "source": [
    "# Testing Dataset Results\n",
    "\n",
    "## Evaluation Metrics\n",
    "The bar charts for both training and test datasets show high values for all metrics (accuracy, precision, recall, and F1 score).\n",
    "Accuracy is around 91% in both cases, which is strong, indicating that the model correctly classifies the majority of emails.\n",
    "Precision and Recall are also high, but there’s a slight drop in recall in the training dataset compared to the test dataset.\n",
    "F1 Score is high in both cases, suggesting a balanced performance between precision and recall.\n",
    "## Confusion Matrix Analysis\n",
    "Test Confusion Matrix:\n",
    "Out of 100 test emails, the model classified 90 ham (non-phishing) emails and 91 spam emails correctly, with only 10 ham and 9 spam misclassifications.\n",
    "This leads to a strong performance on the test data, reflecting that the model generalizes well to unseen data.\n",
    "Training Confusion Matrix:\n",
    "The model classified 964 ham emails correctly but misclassified 22 spam emails as ham.\n",
    "This suggests that while the model performs well, it struggles slightly with recall on spam (phishing) emails, resulting in some spam emails being misclassified as ham."
   ]
  },
  {
   "cell_type": "code",
   "execution_count": 5,
   "id": "aa82e601",
   "metadata": {
    "execution": {
     "iopub.execute_input": "2024-11-12T19:15:38.942166Z",
     "iopub.status.busy": "2024-11-12T19:15:38.941451Z",
     "iopub.status.idle": "2024-11-12T19:15:39.303596Z",
     "shell.execute_reply": "2024-11-12T19:15:39.301995Z"
    },
    "papermill": {
     "duration": 0.380336,
     "end_time": "2024-11-12T19:15:39.306238",
     "exception": false,
     "start_time": "2024-11-12T19:15:38.925902",
     "status": "completed"
    },
    "tags": []
   },
   "outputs": [
    {
     "data": {
      "image/png": "[encoded data removed]",
      "text/plain": [
       "<Figure size 640x480 with 2 Axes>"
      ]
     },
     "metadata": {},
     "output_type": "display_data"
    }
   ],
   "source": [
    "from sklearn.metrics import confusion_matrix, ConfusionMatrixDisplay, accuracy_score\n",
    "import matplotlib.pyplot as plt\n",
    "\n",
    "# Generate confusion matrix using the actual labels and predicted labels\n",
    "cm = confusion_matrix(new_data['v1'], new_data['predicted_label'])\n",
    "\n",
    "# Calculate accuracy\n",
    "accuracy = accuracy_score(new_data['v1'], new_data['predicted_label'])\n",
    "\n",
    "# Plot confusion matrix\n",
    "disp = ConfusionMatrixDisplay(confusion_matrix=cm, display_labels=['Ham', 'Spam'])\n",
    "disp.plot(cmap=plt.cm.Blues)\n",
    "plt.title(f\"Testing Evaluation Confusion Matrix\\nAccuracy: {accuracy:.2f}\")  # Show accuracy in the title\n",
    "plt.show()\n"
   ]
  },
  {
   "cell_type": "code",
   "execution_count": 6,
   "id": "53d5117e",
   "metadata": {
    "execution": {
     "iopub.execute_input": "2024-11-12T19:15:39.323173Z",
     "iopub.status.busy": "2024-11-12T19:15:39.322704Z",
     "iopub.status.idle": "2024-11-12T19:15:39.552303Z",
     "shell.execute_reply": "2024-11-12T19:15:39.550845Z"
    },
    "papermill": {
     "duration": 0.241581,
     "end_time": "2024-11-12T19:15:39.554899",
     "exception": false,
     "start_time": "2024-11-12T19:15:39.313318",
     "status": "completed"
    },
    "tags": []
   },
   "outputs": [
    {
     "data": {
      "image/png": "[encoded data removed]",
      "text/plain": [
       "<Figure size 800x600 with 1 Axes>"
      ]
     },
     "metadata": {},
     "output_type": "display_data"
    }
   ],
   "source": [
    "import matplotlib.pyplot as plt\n",
    "\n",
    "# Assuming new_accuracy, new_precision, new_recall, and new_f1 are defined\n",
    "# Enron dataset evaluation metrics\n",
    "new_dataset_metrics = {\n",
    "    'Accuracy': new_accuracy,\n",
    "    'Precision': new_precision,\n",
    "    'Recall': new_recall,\n",
    "    'F1 Score': new_f1\n",
    "}\n",
    "\n",
    "# Extract names and values for the plot\n",
    "names = list(new_dataset_metrics.keys())\n",
    "values = list(new_dataset_metrics.values())\n",
    "\n",
    "# Plot bar chart\n",
    "plt.figure(figsize=(8, 6))\n",
    "plt.bar(names, values, color=['blue', 'orange', 'green', 'red'])\n",
    "plt.ylim(0, 1)  # Set y-axis to display metrics from 0 to 1 scale\n",
    "plt.xlabel('Metrics')\n",
    "plt.ylabel('Score')\n",
    "plt.title('Testing Evaluation Metrics')\n",
    "plt.show()\n"
   ]
  }
 ],
 "metadata": {
  "kaggle": {
   "accelerator": "none",
   "dataSources": [
    {
     "datasetId": 1961542,
     "sourceId": 3235802,
     "sourceType": "datasetVersion"
    },
    {
     "datasetId": 6071917,
     "sourceId": 9887437,
     "sourceType": "datasetVersion"
    }
   ],
   "dockerImageVersionId": 30786,
   "isGpuEnabled": false,
   "isInternetEnabled": false,
   "language": "python",
   "sourceType": "notebook"
  },
  "kernelspec": {
   "display_name": "Python 3",
   "language": "python",
   "name": "python3"
  },
  "language_info": {
   "codemirror_mode": {
    "name": "ipython",
    "version": 3
   },
   "file_extension": ".py",
   "mimetype": "text/x-python",
   "name": "python",
   "nbconvert_exporter": "python",
   "pygments_lexer": "ipython3",
   "version": "3.10.14"
  },
  "papermill": {
   "default_parameters": {},
   "duration": 13.340735,
   "end_time": "2024-11-12T19:15:40.387942",
   "environment_variables": {},
   "exception": null,
   "input_path": "__notebook__.ipynb",
   "output_path": "__notebook__.ipynb",
   "parameters": {},
   "start_time": "2024-11-12T19:15:27.047207",
   "version": "2.6.0"
  }
 },
 "nbformat": 4,
 "nbformat_minor": 5
}
